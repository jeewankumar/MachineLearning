{
 "cells": [
  {
   "cell_type": "code",
   "execution_count": 35,
   "metadata": {},
   "outputs": [
    {
     "data": {
      "text/html": [
       "<style>.container {width:95%}</style>"
      ],
      "text/plain": [
       "<IPython.core.display.HTML object>"
      ]
     },
     "metadata": {},
     "output_type": "display_data"
    }
   ],
   "source": [
    "from IPython.core.display import display, HTML\n",
    "display(HTML(\"<style>.container {width:95%}</style>\"))\n",
    "\n",
    "# Setting up the library folder\n",
    "from importlib import reload\n",
    "import sys\n",
    "sys.path.insert(0,'/home/jkumar16/MyModules')\n",
    "\n",
    "import ExploratoryDataAnalysis as eda"
   ]
  },
  {
   "cell_type": "markdown",
   "metadata": {},
   "source": [
    "## Variance Inflation Factor\n",
    "## $VIF_k = \\frac{1}{1-R^2_k}$"
   ]
  },
  {
   "cell_type": "code",
   "execution_count": 19,
   "metadata": {
    "collapsed": true
   },
   "outputs": [],
   "source": [
    "import pandas as pd\n",
    "import numpy as np\n",
    "import matplotlib.pyplot as plt\n",
    "import seaborn as sns\n",
    "%matplotlib inline"
   ]
  },
  {
   "cell_type": "markdown",
   "metadata": {},
   "source": [
    "An Example\n",
    "Let's return to the blood pressure data (bloodpress.txt) in which researchers observed the following data on 20 individuals with high blood pressure:\n",
    "\n",
    "* blood pressure (y = BP, in mm Hg)\n",
    "* age (x1 = Age, in years)\n",
    "* weight (x2 = Weight, in kg)\n",
    "* body surface area (x3 = BSA, in sq m)\n",
    "* duration of hypertension (x4 = Dur, in years)\n",
    "* basal pulse (x5 = Pulse, in beats per minute)\n",
    "* stress index (x6 = Stress)"
   ]
  },
  {
   "cell_type": "code",
   "execution_count": 87,
   "metadata": {},
   "outputs": [
    {
     "data": {
      "text/html": [
       "<div>\n",
       "<table border=\"1\" class=\"dataframe\">\n",
       "  <thead>\n",
       "    <tr style=\"text-align: right;\">\n",
       "      <th></th>\n",
       "      <th>BP</th>\n",
       "      <th>Age</th>\n",
       "      <th>Weight</th>\n",
       "      <th>BSA</th>\n",
       "      <th>Dur</th>\n",
       "      <th>Pulse</th>\n",
       "      <th>Stress</th>\n",
       "    </tr>\n",
       "    <tr>\n",
       "      <th>Pt</th>\n",
       "      <th></th>\n",
       "      <th></th>\n",
       "      <th></th>\n",
       "      <th></th>\n",
       "      <th></th>\n",
       "      <th></th>\n",
       "      <th></th>\n",
       "    </tr>\n",
       "  </thead>\n",
       "  <tbody>\n",
       "    <tr>\n",
       "      <th>1</th>\n",
       "      <td>105</td>\n",
       "      <td>47</td>\n",
       "      <td>85.4</td>\n",
       "      <td>1.75</td>\n",
       "      <td>5.1</td>\n",
       "      <td>63</td>\n",
       "      <td>33</td>\n",
       "    </tr>\n",
       "    <tr>\n",
       "      <th>2</th>\n",
       "      <td>115</td>\n",
       "      <td>49</td>\n",
       "      <td>94.2</td>\n",
       "      <td>2.10</td>\n",
       "      <td>3.8</td>\n",
       "      <td>70</td>\n",
       "      <td>14</td>\n",
       "    </tr>\n",
       "    <tr>\n",
       "      <th>3</th>\n",
       "      <td>116</td>\n",
       "      <td>49</td>\n",
       "      <td>95.3</td>\n",
       "      <td>1.98</td>\n",
       "      <td>8.2</td>\n",
       "      <td>72</td>\n",
       "      <td>10</td>\n",
       "    </tr>\n",
       "    <tr>\n",
       "      <th>4</th>\n",
       "      <td>117</td>\n",
       "      <td>50</td>\n",
       "      <td>94.7</td>\n",
       "      <td>2.01</td>\n",
       "      <td>5.8</td>\n",
       "      <td>73</td>\n",
       "      <td>99</td>\n",
       "    </tr>\n",
       "    <tr>\n",
       "      <th>5</th>\n",
       "      <td>112</td>\n",
       "      <td>51</td>\n",
       "      <td>89.4</td>\n",
       "      <td>1.89</td>\n",
       "      <td>7.0</td>\n",
       "      <td>72</td>\n",
       "      <td>95</td>\n",
       "    </tr>\n",
       "  </tbody>\n",
       "</table>\n",
       "</div>"
      ],
      "text/plain": [
       "     BP  Age  Weight   BSA  Dur  Pulse  Stress\n",
       "Pt                                            \n",
       "1   105   47    85.4  1.75  5.1     63      33\n",
       "2   115   49    94.2  2.10  3.8     70      14\n",
       "3   116   49    95.3  1.98  8.2     72      10\n",
       "4   117   50    94.7  2.01  5.8     73      99\n",
       "5   112   51    89.4  1.89  7.0     72      95"
      ]
     },
     "execution_count": 87,
     "metadata": {},
     "output_type": "execute_result"
    }
   ],
   "source": [
    "df = pd.read_csv('https://newonlinecourses.science.psu.edu/stat501/sites/onlinecourses.science.psu.edu.stat501/files/data/bloodpress/index.txt', sep='\\t', index_col=0)\n",
    "df.to_csv('./data/vif_bloodpress.csv', index=False)\n",
    "df.head()"
   ]
  },
  {
   "cell_type": "code",
   "execution_count": 99,
   "metadata": {},
   "outputs": [
    {
     "data": {
      "text/plain": [
       "<seaborn.axisgrid.PairGrid at 0x7f3cb4c0bf60>"
      ]
     },
     "execution_count": 99,
     "metadata": {},
     "output_type": "execute_result"
    },
    {
     "data": {
      "image/png": "[encoded data removed]",
      "text/plain": [
       "<matplotlib.figure.Figure at 0x7f3cb4c072b0>"
      ]
     },
     "metadata": {},
     "output_type": "display_data"
    }
   ],
   "source": [
    "sns.pairplot(df)"
   ]
  },
  {
   "cell_type": "markdown",
   "metadata": {},
   "source": [
    "### Checking for high correlation"
   ]
  },
  {
   "cell_type": "code",
   "execution_count": 89,
   "metadata": {},
   "outputs": [
    {
     "data": {
      "text/html": [
       "<div>\n",
       "<table border=\"1\" class=\"dataframe\">\n",
       "  <thead>\n",
       "    <tr style=\"text-align: right;\">\n",
       "      <th></th>\n",
       "      <th>BP</th>\n",
       "      <th>Age</th>\n",
       "      <th>Weight</th>\n",
       "      <th>BSA</th>\n",
       "      <th>Dur</th>\n",
       "      <th>Pulse</th>\n",
       "      <th>Stress</th>\n",
       "    </tr>\n",
       "  </thead>\n",
       "  <tbody>\n",
       "    <tr>\n",
       "      <th>BP</th>\n",
       "      <td>1.000000</td>\n",
       "      <td>0.659093</td>\n",
       "      <td>0.950068</td>\n",
       "      <td>0.865879</td>\n",
       "      <td>0.292834</td>\n",
       "      <td>0.721413</td>\n",
       "      <td>0.163901</td>\n",
       "    </tr>\n",
       "    <tr>\n",
       "      <th>Age</th>\n",
       "      <td>0.659093</td>\n",
       "      <td>1.000000</td>\n",
       "      <td>0.407349</td>\n",
       "      <td>0.378455</td>\n",
       "      <td>0.343792</td>\n",
       "      <td>0.618764</td>\n",
       "      <td>0.368224</td>\n",
       "    </tr>\n",
       "    <tr>\n",
       "      <th>Weight</th>\n",
       "      <td>0.950068</td>\n",
       "      <td>0.407349</td>\n",
       "      <td>1.000000</td>\n",
       "      <td>0.875305</td>\n",
       "      <td>0.200650</td>\n",
       "      <td>0.659340</td>\n",
       "      <td>0.034355</td>\n",
       "    </tr>\n",
       "    <tr>\n",
       "      <th>BSA</th>\n",
       "      <td>0.865879</td>\n",
       "      <td>0.378455</td>\n",
       "      <td>0.875305</td>\n",
       "      <td>1.000000</td>\n",
       "      <td>0.130540</td>\n",
       "      <td>0.464819</td>\n",
       "      <td>0.018446</td>\n",
       "    </tr>\n",
       "    <tr>\n",
       "      <th>Dur</th>\n",
       "      <td>0.292834</td>\n",
       "      <td>0.343792</td>\n",
       "      <td>0.200650</td>\n",
       "      <td>0.130540</td>\n",
       "      <td>1.000000</td>\n",
       "      <td>0.401514</td>\n",
       "      <td>0.311640</td>\n",
       "    </tr>\n",
       "    <tr>\n",
       "      <th>Pulse</th>\n",
       "      <td>0.721413</td>\n",
       "      <td>0.618764</td>\n",
       "      <td>0.659340</td>\n",
       "      <td>0.464819</td>\n",
       "      <td>0.401514</td>\n",
       "      <td>1.000000</td>\n",
       "      <td>0.506310</td>\n",
       "    </tr>\n",
       "    <tr>\n",
       "      <th>Stress</th>\n",
       "      <td>0.163901</td>\n",
       "      <td>0.368224</td>\n",
       "      <td>0.034355</td>\n",
       "      <td>0.018446</td>\n",
       "      <td>0.311640</td>\n",
       "      <td>0.506310</td>\n",
       "      <td>1.000000</td>\n",
       "    </tr>\n",
       "  </tbody>\n",
       "</table>\n",
       "</div>"
      ],
      "text/plain": [
       "              BP       Age    Weight       BSA       Dur     Pulse    Stress\n",
       "BP      1.000000  0.659093  0.950068  0.865879  0.292834  0.721413  0.163901\n",
       "Age     0.659093  1.000000  0.407349  0.378455  0.343792  0.618764  0.368224\n",
       "Weight  0.950068  0.407349  1.000000  0.875305  0.200650  0.659340  0.034355\n",
       "BSA     0.865879  0.378455  0.875305  1.000000  0.130540  0.464819  0.018446\n",
       "Dur     0.292834  0.343792  0.200650  0.130540  1.000000  0.401514  0.311640\n",
       "Pulse   0.721413  0.618764  0.659340  0.464819  0.401514  1.000000  0.506310\n",
       "Stress  0.163901  0.368224  0.034355  0.018446  0.311640  0.506310  1.000000"
      ]
     },
     "execution_count": 89,
     "metadata": {},
     "output_type": "execute_result"
    }
   ],
   "source": [
    "df.corr()"
   ]
  },
  {
   "cell_type": "code",
   "execution_count": null,
   "metadata": {
    "collapsed": true
   },
   "outputs": [],
   "source": []
  },
  {
   "cell_type": "code",
   "execution_count": 110,
   "metadata": {},
   "outputs": [
    {
     "data": {
      "image/png": "[encoded data removed]",
      "text/plain": [
       "<matplotlib.figure.Figure at 0x7f3cb12d8e10>"
      ]
     },
     "metadata": {},
     "output_type": "display_data"
    }
   ],
   "source": [
    "# corr = df.corr()\n",
    "# mask = np.zeros_like(corr, dtype=np.bool)\n",
    "# mask[np.triu_indices_from(mask)] = True\n",
    "# plt.figure(figsize=(16,8))\n",
    "# sns.heatmap(corr, mask=mask, annot=True, fmt='f')\n",
    "# plt.xticks(fontsize=12)\n",
    "# plt.yticks(rotation=0, fontsize=12)\n",
    "\n",
    "reload(eda)\n",
    "eda.correlation_matrix(df.corr())"
   ]
  },
  {
   "cell_type": "markdown",
   "metadata": {},
   "source": [
    "Regressing y = BP on all six of the predictors, we obtain:"
   ]
  },
  {
   "cell_type": "code",
   "execution_count": 91,
   "metadata": {},
   "outputs": [
    {
     "data": {
      "text/html": [
       "<table class=\"simpletable\">\n",
       "<caption>OLS Regression Results</caption>\n",
       "<tr>\n",
       "  <th>Dep. Variable:</th>           <td>BP</td>        <th>  R-squared:         </th> <td>   0.996</td>\n",
       "</tr>\n",
       "<tr>\n",
       "  <th>Model:</th>                   <td>OLS</td>       <th>  Adj. R-squared:    </th> <td>   0.994</td>\n",
       "</tr>\n",
       "<tr>\n",
       "  <th>Method:</th>             <td>Least Squares</td>  <th>  F-statistic:       </th> <td>   560.6</td>\n",
       "</tr>\n",
       "<tr>\n",
       "  <th>Date:</th>             <td>Fri, 08 Jun 2018</td> <th>  Prob (F-statistic):</th> <td>6.40e-15</td>\n",
       "</tr>\n",
       "<tr>\n",
       "  <th>Time:</th>                 <td>18:49:12</td>     <th>  Log-Likelihood:    </th> <td> -6.1033</td>\n",
       "</tr>\n",
       "<tr>\n",
       "  <th>No. Observations:</th>      <td>    20</td>      <th>  AIC:               </th> <td>   26.21</td>\n",
       "</tr>\n",
       "<tr>\n",
       "  <th>Df Residuals:</th>          <td>    13</td>      <th>  BIC:               </th> <td>   33.18</td>\n",
       "</tr>\n",
       "<tr>\n",
       "  <th>Df Model:</th>              <td>     6</td>      <th>                     </th>     <td> </td>   \n",
       "</tr>\n",
       "<tr>\n",
       "  <th>Covariance Type:</th>      <td>nonrobust</td>    <th>                     </th>     <td> </td>   \n",
       "</tr>\n",
       "</table>\n",
       "<table class=\"simpletable\">\n",
       "<tr>\n",
       "     <td></td>       <th>coef</th>     <th>std err</th>      <th>t</th>      <th>P>|t|</th>  <th>[0.025</th>    <th>0.975]</th>  \n",
       "</tr>\n",
       "<tr>\n",
       "  <th>const</th>  <td>  -12.8705</td> <td>    2.557</td> <td>   -5.034</td> <td> 0.000</td> <td>  -18.394</td> <td>   -7.347</td>\n",
       "</tr>\n",
       "<tr>\n",
       "  <th>Age</th>    <td>    0.7033</td> <td>    0.050</td> <td>   14.177</td> <td> 0.000</td> <td>    0.596</td> <td>    0.810</td>\n",
       "</tr>\n",
       "<tr>\n",
       "  <th>Weight</th> <td>    0.9699</td> <td>    0.063</td> <td>   15.369</td> <td> 0.000</td> <td>    0.834</td> <td>    1.106</td>\n",
       "</tr>\n",
       "<tr>\n",
       "  <th>BSA</th>    <td>    3.7765</td> <td>    1.580</td> <td>    2.390</td> <td> 0.033</td> <td>    0.363</td> <td>    7.190</td>\n",
       "</tr>\n",
       "<tr>\n",
       "  <th>Dur</th>    <td>    0.0684</td> <td>    0.048</td> <td>    1.412</td> <td> 0.182</td> <td>   -0.036</td> <td>    0.173</td>\n",
       "</tr>\n",
       "<tr>\n",
       "  <th>Pulse</th>  <td>   -0.0845</td> <td>    0.052</td> <td>   -1.637</td> <td> 0.126</td> <td>   -0.196</td> <td>    0.027</td>\n",
       "</tr>\n",
       "<tr>\n",
       "  <th>Stress</th> <td>    0.0056</td> <td>    0.003</td> <td>    1.633</td> <td> 0.126</td> <td>   -0.002</td> <td>    0.013</td>\n",
       "</tr>\n",
       "</table>\n",
       "<table class=\"simpletable\">\n",
       "<tr>\n",
       "  <th>Omnibus:</th>       <td> 7.219</td> <th>  Durbin-Watson:     </th> <td>   2.249</td>\n",
       "</tr>\n",
       "<tr>\n",
       "  <th>Prob(Omnibus):</th> <td> 0.027</td> <th>  Jarque-Bera (JB):  </th> <td>   4.643</td>\n",
       "</tr>\n",
       "<tr>\n",
       "  <th>Skew:</th>          <td>-1.050</td> <th>  Prob(JB):          </th> <td>  0.0981</td>\n",
       "</tr>\n",
       "<tr>\n",
       "  <th>Kurtosis:</th>      <td> 4.076</td> <th>  Cond. No.          </th> <td>4.02e+03</td>\n",
       "</tr>\n",
       "</table>"
      ],
      "text/plain": [
       "<class 'statsmodels.iolib.summary.Summary'>\n",
       "\"\"\"\n",
       "                            OLS Regression Results                            \n",
       "==============================================================================\n",
       "Dep. Variable:                     BP   R-squared:                       0.996\n",
       "Model:                            OLS   Adj. R-squared:                  0.994\n",
       "Method:                 Least Squares   F-statistic:                     560.6\n",
       "Date:                Fri, 08 Jun 2018   Prob (F-statistic):           6.40e-15\n",
       "Time:                        18:49:12   Log-Likelihood:                -6.1033\n",
       "No. Observations:                  20   AIC:                             26.21\n",
       "Df Residuals:                      13   BIC:                             33.18\n",
       "Df Model:                           6                                         \n",
       "Covariance Type:            nonrobust                                         \n",
       "==============================================================================\n",
       "                 coef    std err          t      P>|t|      [0.025      0.975]\n",
       "------------------------------------------------------------------------------\n",
       "const        -12.8705      2.557     -5.034      0.000     -18.394      -7.347\n",
       "Age            0.7033      0.050     14.177      0.000       0.596       0.810\n",
       "Weight         0.9699      0.063     15.369      0.000       0.834       1.106\n",
       "BSA            3.7765      1.580      2.390      0.033       0.363       7.190\n",
       "Dur            0.0684      0.048      1.412      0.182      -0.036       0.173\n",
       "Pulse         -0.0845      0.052     -1.637      0.126      -0.196       0.027\n",
       "Stress         0.0056      0.003      1.633      0.126      -0.002       0.013\n",
       "==============================================================================\n",
       "Omnibus:                        7.219   Durbin-Watson:                   2.249\n",
       "Prob(Omnibus):                  0.027   Jarque-Bera (JB):                4.643\n",
       "Skew:                          -1.050   Prob(JB):                       0.0981\n",
       "Kurtosis:                       4.076   Cond. No.                     4.02e+03\n",
       "==============================================================================\n",
       "\n",
       "Warnings:\n",
       "[1] Standard Errors assume that the covariance matrix of the errors is correctly specified.\n",
       "[2] The condition number is large, 4.02e+03. This might indicate that there are\n",
       "strong multicollinearity or other numerical problems.\n",
       "\"\"\""
      ]
     },
     "execution_count": 91,
     "metadata": {},
     "output_type": "execute_result"
    }
   ],
   "source": [
    "import statsmodels.api as sm\n",
    "import statsmodels.formula.api as smf\n",
    "\n",
    "X = df.drop(['BP'], axis=1)\n",
    "y = df['BP']\n",
    "\n",
    "X = sm.add_constant(X)\n",
    "lin_reg = smf.OLS(y, X).fit()\n",
    "lin_reg.summary()"
   ]
  },
  {
   "cell_type": "code",
   "execution_count": 92,
   "metadata": {},
   "outputs": [
    {
     "data": {
      "text/html": [
       "<div>\n",
       "<table border=\"1\" class=\"dataframe\">\n",
       "  <thead>\n",
       "    <tr style=\"text-align: right;\">\n",
       "      <th></th>\n",
       "      <th>VIF Factor</th>\n",
       "      <th>features</th>\n",
       "    </tr>\n",
       "  </thead>\n",
       "  <tbody>\n",
       "    <tr>\n",
       "      <th>0</th>\n",
       "      <td>788.307692</td>\n",
       "      <td>const</td>\n",
       "    </tr>\n",
       "    <tr>\n",
       "      <th>1</th>\n",
       "      <td>1.762807</td>\n",
       "      <td>Age</td>\n",
       "    </tr>\n",
       "    <tr>\n",
       "      <th>2</th>\n",
       "      <td>8.417035</td>\n",
       "      <td>Weight</td>\n",
       "    </tr>\n",
       "    <tr>\n",
       "      <th>3</th>\n",
       "      <td>5.328751</td>\n",
       "      <td>BSA</td>\n",
       "    </tr>\n",
       "    <tr>\n",
       "      <th>4</th>\n",
       "      <td>1.237309</td>\n",
       "      <td>Dur</td>\n",
       "    </tr>\n",
       "    <tr>\n",
       "      <th>5</th>\n",
       "      <td>4.413575</td>\n",
       "      <td>Pulse</td>\n",
       "    </tr>\n",
       "    <tr>\n",
       "      <th>6</th>\n",
       "      <td>1.834845</td>\n",
       "      <td>Stress</td>\n",
       "    </tr>\n",
       "  </tbody>\n",
       "</table>\n",
       "</div>"
      ],
      "text/plain": [
       "   VIF Factor features\n",
       "0  788.307692    const\n",
       "1    1.762807      Age\n",
       "2    8.417035   Weight\n",
       "3    5.328751      BSA\n",
       "4    1.237309      Dur\n",
       "5    4.413575    Pulse\n",
       "6    1.834845   Stress"
      ]
     },
     "execution_count": 92,
     "metadata": {},
     "output_type": "execute_result"
    }
   ],
   "source": [
    "# For each X, calculate VIF and save in dataframe\n",
    "from statsmodels.stats.outliers_influence import variance_inflation_factor\n",
    "\n",
    "vif = pd.DataFrame()\n",
    "vif[\"VIF Factor\"] = [variance_inflation_factor(X.values, i) for i in range(X.shape[1])]\n",
    "vif[\"features\"] = X.columns\n",
    "vif"
   ]
  },
  {
   "cell_type": "markdown",
   "metadata": {},
   "source": [
    "For the sake of understanding, let's verify the calculation of the VIF for the predictor Weight. Regressing the predictor x2 = Weight on the remaining five predictors:"
   ]
  },
  {
   "cell_type": "code",
   "execution_count": 93,
   "metadata": {},
   "outputs": [
    {
     "data": {
      "text/html": [
       "<table class=\"simpletable\">\n",
       "<caption>OLS Regression Results</caption>\n",
       "<tr>\n",
       "  <th>Dep. Variable:</th>         <td>Weight</td>      <th>  R-squared:         </th> <td>   0.881</td>\n",
       "</tr>\n",
       "<tr>\n",
       "  <th>Model:</th>                   <td>OLS</td>       <th>  Adj. R-squared:    </th> <td>   0.839</td>\n",
       "</tr>\n",
       "<tr>\n",
       "  <th>Method:</th>             <td>Least Squares</td>  <th>  F-statistic:       </th> <td>   20.77</td>\n",
       "</tr>\n",
       "<tr>\n",
       "  <th>Date:</th>             <td>Fri, 08 Jun 2018</td> <th>  Prob (F-statistic):</th> <td>5.05e-06</td>\n",
       "</tr>\n",
       "<tr>\n",
       "  <th>Time:</th>                 <td>18:49:26</td>     <th>  Log-Likelihood:    </th> <td> -35.712</td>\n",
       "</tr>\n",
       "<tr>\n",
       "  <th>No. Observations:</th>      <td>    20</td>      <th>  AIC:               </th> <td>   83.42</td>\n",
       "</tr>\n",
       "<tr>\n",
       "  <th>Df Residuals:</th>          <td>    14</td>      <th>  BIC:               </th> <td>   89.40</td>\n",
       "</tr>\n",
       "<tr>\n",
       "  <th>Df Model:</th>              <td>     5</td>      <th>                     </th>     <td> </td>   \n",
       "</tr>\n",
       "<tr>\n",
       "  <th>Covariance Type:</th>      <td>nonrobust</td>    <th>                     </th>     <td> </td>   \n",
       "</tr>\n",
       "</table>\n",
       "<table class=\"simpletable\">\n",
       "<tr>\n",
       "     <td></td>       <th>coef</th>     <th>std err</th>      <th>t</th>      <th>P>|t|</th>  <th>[0.025</th>    <th>0.975]</th>  \n",
       "</tr>\n",
       "<tr>\n",
       "  <th>const</th>  <td>   19.6744</td> <td>    9.465</td> <td>    2.079</td> <td> 0.057</td> <td>   -0.625</td> <td>   39.974</td>\n",
       "</tr>\n",
       "<tr>\n",
       "  <th>Age</th>    <td>   -0.1446</td> <td>    0.206</td> <td>   -0.700</td> <td> 0.495</td> <td>   -0.588</td> <td>    0.298</td>\n",
       "</tr>\n",
       "<tr>\n",
       "  <th>BSA</th>    <td>   21.4217</td> <td>    3.465</td> <td>    6.183</td> <td> 0.000</td> <td>   13.991</td> <td>   28.852</td>\n",
       "</tr>\n",
       "<tr>\n",
       "  <th>Dur</th>    <td>    0.0087</td> <td>    0.205</td> <td>    0.042</td> <td> 0.967</td> <td>   -0.431</td> <td>    0.449</td>\n",
       "</tr>\n",
       "<tr>\n",
       "  <th>Pulse</th>  <td>    0.5577</td> <td>    0.160</td> <td>    3.489</td> <td> 0.004</td> <td>    0.215</td> <td>    0.901</td>\n",
       "</tr>\n",
       "<tr>\n",
       "  <th>Stress</th> <td>   -0.0230</td> <td>    0.013</td> <td>   -1.758</td> <td> 0.101</td> <td>   -0.051</td> <td>    0.005</td>\n",
       "</tr>\n",
       "</table>\n",
       "<table class=\"simpletable\">\n",
       "<tr>\n",
       "  <th>Omnibus:</th>       <td> 0.264</td> <th>  Durbin-Watson:     </th> <td>   1.951</td>\n",
       "</tr>\n",
       "<tr>\n",
       "  <th>Prob(Omnibus):</th> <td> 0.876</td> <th>  Jarque-Bera (JB):  </th> <td>   0.445</td>\n",
       "</tr>\n",
       "<tr>\n",
       "  <th>Skew:</th>          <td>-0.130</td> <th>  Prob(JB):          </th> <td>   0.800</td>\n",
       "</tr>\n",
       "<tr>\n",
       "  <th>Kurtosis:</th>      <td> 2.317</td> <th>  Cond. No.          </th> <td>2.53e+03</td>\n",
       "</tr>\n",
       "</table>"
      ],
      "text/plain": [
       "<class 'statsmodels.iolib.summary.Summary'>\n",
       "\"\"\"\n",
       "                            OLS Regression Results                            \n",
       "==============================================================================\n",
       "Dep. Variable:                 Weight   R-squared:                       0.881\n",
       "Model:                            OLS   Adj. R-squared:                  0.839\n",
       "Method:                 Least Squares   F-statistic:                     20.77\n",
       "Date:                Fri, 08 Jun 2018   Prob (F-statistic):           5.05e-06\n",
       "Time:                        18:49:26   Log-Likelihood:                -35.712\n",
       "No. Observations:                  20   AIC:                             83.42\n",
       "Df Residuals:                      14   BIC:                             89.40\n",
       "Df Model:                           5                                         \n",
       "Covariance Type:            nonrobust                                         \n",
       "==============================================================================\n",
       "                 coef    std err          t      P>|t|      [0.025      0.975]\n",
       "------------------------------------------------------------------------------\n",
       "const         19.6744      9.465      2.079      0.057      -0.625      39.974\n",
       "Age           -0.1446      0.206     -0.700      0.495      -0.588       0.298\n",
       "BSA           21.4217      3.465      6.183      0.000      13.991      28.852\n",
       "Dur            0.0087      0.205      0.042      0.967      -0.431       0.449\n",
       "Pulse          0.5577      0.160      3.489      0.004       0.215       0.901\n",
       "Stress        -0.0230      0.013     -1.758      0.101      -0.051       0.005\n",
       "==============================================================================\n",
       "Omnibus:                        0.264   Durbin-Watson:                   1.951\n",
       "Prob(Omnibus):                  0.876   Jarque-Bera (JB):                0.445\n",
       "Skew:                          -0.130   Prob(JB):                        0.800\n",
       "Kurtosis:                       2.317   Cond. No.                     2.53e+03\n",
       "==============================================================================\n",
       "\n",
       "Warnings:\n",
       "[1] Standard Errors assume that the covariance matrix of the errors is correctly specified.\n",
       "[2] The condition number is large, 2.53e+03. This might indicate that there are\n",
       "strong multicollinearity or other numerical problems.\n",
       "\"\"\""
      ]
     },
     "execution_count": 93,
     "metadata": {},
     "output_type": "execute_result"
    }
   ],
   "source": [
    "X = df.drop(['BP', 'Weight'], axis=1)\n",
    "y = df['Weight']\n",
    "\n",
    "X = sm.add_constant(X)\n",
    "lin_reg = smf.OLS(y, X).fit()\n",
    "lin_reg.summary()"
   ]
  },
  {
   "cell_type": "code",
   "execution_count": 94,
   "metadata": {
    "scrolled": false
   },
   "outputs": [
    {
     "data": {
      "text/html": [
       "<div>\n",
       "<table border=\"1\" class=\"dataframe\">\n",
       "  <thead>\n",
       "    <tr style=\"text-align: right;\">\n",
       "      <th></th>\n",
       "      <th>VIF Factor</th>\n",
       "      <th>features</th>\n",
       "    </tr>\n",
       "  </thead>\n",
       "  <tbody>\n",
       "    <tr>\n",
       "      <th>0</th>\n",
       "      <td>602.384724</td>\n",
       "      <td>const</td>\n",
       "    </tr>\n",
       "    <tr>\n",
       "      <th>1</th>\n",
       "      <td>1.703115</td>\n",
       "      <td>Age</td>\n",
       "    </tr>\n",
       "    <tr>\n",
       "      <th>2</th>\n",
       "      <td>1.428349</td>\n",
       "      <td>BSA</td>\n",
       "    </tr>\n",
       "    <tr>\n",
       "      <th>3</th>\n",
       "      <td>1.237151</td>\n",
       "      <td>Dur</td>\n",
       "    </tr>\n",
       "    <tr>\n",
       "      <th>4</th>\n",
       "      <td>2.360939</td>\n",
       "      <td>Pulse</td>\n",
       "    </tr>\n",
       "    <tr>\n",
       "      <th>5</th>\n",
       "      <td>1.502936</td>\n",
       "      <td>Stress</td>\n",
       "    </tr>\n",
       "  </tbody>\n",
       "</table>\n",
       "</div>"
      ],
      "text/plain": [
       "   VIF Factor features\n",
       "0  602.384724    const\n",
       "1    1.703115      Age\n",
       "2    1.428349      BSA\n",
       "3    1.237151      Dur\n",
       "4    2.360939    Pulse\n",
       "5    1.502936   Stress"
      ]
     },
     "execution_count": 94,
     "metadata": {},
     "output_type": "execute_result"
    }
   ],
   "source": [
    "vif = pd.DataFrame()\n",
    "vif[\"VIF Factor\"] = [variance_inflation_factor(X.values, i) for i in range(X.shape[1])]\n",
    "vif[\"features\"] = X.columns\n",
    "vif"
   ]
  },
  {
   "cell_type": "code",
   "execution_count": 98,
   "metadata": {},
   "outputs": [
    {
     "data": {
      "text/plain": [
       "8.4170350296330785"
      ]
     },
     "execution_count": 98,
     "metadata": {},
     "output_type": "execute_result"
    }
   ],
   "source": [
    "from sklearn.metrics import r2_score\n",
    "weight_r2 = r2_score(y, lin_reg.predict(X))\n",
    "weight_vif = 1/(1-weight_r2)\n",
    "weight_vif"
   ]
  },
  {
   "cell_type": "markdown",
   "metadata": {},
   "source": [
    "Let's see how the researchers would do. Regressing the response y = BP on the four remaining predictors age, weight, duration and stress, we obtain:"
   ]
  },
  {
   "cell_type": "code",
   "execution_count": 112,
   "metadata": {},
   "outputs": [
    {
     "data": {
      "text/html": [
       "<table class=\"simpletable\">\n",
       "<caption>OLS Regression Results</caption>\n",
       "<tr>\n",
       "  <th>Dep. Variable:</th>           <td>BP</td>        <th>  R-squared:         </th> <td>   0.992</td>\n",
       "</tr>\n",
       "<tr>\n",
       "  <th>Model:</th>                   <td>OLS</td>       <th>  Adj. R-squared:    </th> <td>   0.990</td>\n",
       "</tr>\n",
       "<tr>\n",
       "  <th>Method:</th>             <td>Least Squares</td>  <th>  F-statistic:       </th> <td>   458.3</td>\n",
       "</tr>\n",
       "<tr>\n",
       "  <th>Date:</th>             <td>Fri, 08 Jun 2018</td> <th>  Prob (F-statistic):</th> <td>1.76e-15</td>\n",
       "</tr>\n",
       "<tr>\n",
       "  <th>Time:</th>                 <td>19:13:59</td>     <th>  Log-Likelihood:    </th> <td> -13.562</td>\n",
       "</tr>\n",
       "<tr>\n",
       "  <th>No. Observations:</th>      <td>    20</td>      <th>  AIC:               </th> <td>   37.12</td>\n",
       "</tr>\n",
       "<tr>\n",
       "  <th>Df Residuals:</th>          <td>    15</td>      <th>  BIC:               </th> <td>   42.10</td>\n",
       "</tr>\n",
       "<tr>\n",
       "  <th>Df Model:</th>              <td>     4</td>      <th>                     </th>     <td> </td>   \n",
       "</tr>\n",
       "<tr>\n",
       "  <th>Covariance Type:</th>      <td>nonrobust</td>    <th>                     </th>     <td> </td>   \n",
       "</tr>\n",
       "</table>\n",
       "<table class=\"simpletable\">\n",
       "<tr>\n",
       "     <td></td>       <th>coef</th>     <th>std err</th>      <th>t</th>      <th>P>|t|</th>  <th>[0.025</th>    <th>0.975]</th>  \n",
       "</tr>\n",
       "<tr>\n",
       "  <th>const</th>  <td>  -15.8698</td> <td>    3.195</td> <td>   -4.967</td> <td> 0.000</td> <td>  -22.680</td> <td>   -9.059</td>\n",
       "</tr>\n",
       "<tr>\n",
       "  <th>Age</th>    <td>    0.6837</td> <td>    0.061</td> <td>   11.173</td> <td> 0.000</td> <td>    0.553</td> <td>    0.814</td>\n",
       "</tr>\n",
       "<tr>\n",
       "  <th>Weight</th> <td>    1.0341</td> <td>    0.033</td> <td>   31.652</td> <td> 0.000</td> <td>    0.964</td> <td>    1.104</td>\n",
       "</tr>\n",
       "<tr>\n",
       "  <th>Dur</th>    <td>    0.0399</td> <td>    0.064</td> <td>    0.619</td> <td> 0.545</td> <td>   -0.098</td> <td>    0.177</td>\n",
       "</tr>\n",
       "<tr>\n",
       "  <th>Stress</th> <td>    0.0022</td> <td>    0.004</td> <td>    0.576</td> <td> 0.573</td> <td>   -0.006</td> <td>    0.010</td>\n",
       "</tr>\n",
       "</table>\n",
       "<table class=\"simpletable\">\n",
       "<tr>\n",
       "  <th>Omnibus:</th>       <td> 0.318</td> <th>  Durbin-Watson:     </th> <td>   1.917</td>\n",
       "</tr>\n",
       "<tr>\n",
       "  <th>Prob(Omnibus):</th> <td> 0.853</td> <th>  Jarque-Bera (JB):  </th> <td>   0.104</td>\n",
       "</tr>\n",
       "<tr>\n",
       "  <th>Skew:</th>          <td>-0.162</td> <th>  Prob(JB):          </th> <td>   0.950</td>\n",
       "</tr>\n",
       "<tr>\n",
       "  <th>Kurtosis:</th>      <td> 2.860</td> <th>  Cond. No.          </th> <td>3.10e+03</td>\n",
       "</tr>\n",
       "</table>"
      ],
      "text/plain": [
       "<class 'statsmodels.iolib.summary.Summary'>\n",
       "\"\"\"\n",
       "                            OLS Regression Results                            \n",
       "==============================================================================\n",
       "Dep. Variable:                     BP   R-squared:                       0.992\n",
       "Model:                            OLS   Adj. R-squared:                  0.990\n",
       "Method:                 Least Squares   F-statistic:                     458.3\n",
       "Date:                Fri, 08 Jun 2018   Prob (F-statistic):           1.76e-15\n",
       "Time:                        19:13:59   Log-Likelihood:                -13.562\n",
       "No. Observations:                  20   AIC:                             37.12\n",
       "Df Residuals:                      15   BIC:                             42.10\n",
       "Df Model:                           4                                         \n",
       "Covariance Type:            nonrobust                                         \n",
       "==============================================================================\n",
       "                 coef    std err          t      P>|t|      [0.025      0.975]\n",
       "------------------------------------------------------------------------------\n",
       "const        -15.8698      3.195     -4.967      0.000     -22.680      -9.059\n",
       "Age            0.6837      0.061     11.173      0.000       0.553       0.814\n",
       "Weight         1.0341      0.033     31.652      0.000       0.964       1.104\n",
       "Dur            0.0399      0.064      0.619      0.545      -0.098       0.177\n",
       "Stress         0.0022      0.004      0.576      0.573      -0.006       0.010\n",
       "==============================================================================\n",
       "Omnibus:                        0.318   Durbin-Watson:                   1.917\n",
       "Prob(Omnibus):                  0.853   Jarque-Bera (JB):                0.104\n",
       "Skew:                          -0.162   Prob(JB):                        0.950\n",
       "Kurtosis:                       2.860   Cond. No.                     3.10e+03\n",
       "==============================================================================\n",
       "\n",
       "Warnings:\n",
       "[1] Standard Errors assume that the covariance matrix of the errors is correctly specified.\n",
       "[2] The condition number is large, 3.1e+03. This might indicate that there are\n",
       "strong multicollinearity or other numerical problems.\n",
       "\"\"\""
      ]
     },
     "execution_count": 112,
     "metadata": {},
     "output_type": "execute_result"
    }
   ],
   "source": [
    "X = df.drop(['BP', 'BSA', 'Pulse'], axis=1)\n",
    "y = df['BP']\n",
    "\n",
    "X = sm.add_constant(X)\n",
    "lin_reg = smf.OLS(y, X).fit()\n",
    "lin_reg.summary()"
   ]
  },
  {
   "cell_type": "code",
   "execution_count": null,
   "metadata": {
    "collapsed": true
   },
   "outputs": [],
   "source": []
  },
  {
   "cell_type": "code",
   "execution_count": null,
   "metadata": {
    "collapsed": true
   },
   "outputs": [],
   "source": []
  }
 ],
 "metadata": {
  "kernelspec": {
   "display_name": "Python 3",
   "language": "python",
   "name": "python3"
  },
  "language_info": {
   "codemirror_mode": {
    "name": "ipython",
    "version": 3
   },
   "file_extension": ".py",
   "mimetype": "text/x-python",
   "name": "python",
   "nbconvert_exporter": "python",
   "pygments_lexer": "ipython3",
   "version": "3.4.6"
  }
 },
 "nbformat": 4,
 "nbformat_minor": 2
}
