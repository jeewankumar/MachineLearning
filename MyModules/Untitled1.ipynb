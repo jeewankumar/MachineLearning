{
 "cells": [
  {
   "cell_type": "code",
   "execution_count": 1,
   "id": "956639b6",
   "metadata": {},
   "outputs": [
    {
     "data": {
      "text/html": [
       "<style>.container {width:98%}</style>"
      ],
      "text/plain": [
       "<IPython.core.display.HTML object>"
      ]
     },
     "metadata": {},
     "output_type": "display_data"
    },
    {
     "data": {
      "text/html": [
       "<style>.container {width:98%}</style>"
      ],
      "text/plain": [
       "<IPython.core.display.HTML object>"
      ]
     },
     "metadata": {},
     "output_type": "display_data"
    }
   ],
   "source": [
    "from config import *\n",
    "jp.ignore_warnings()\n",
    "jp.change_cells_size()"
   ]
  },
  {
   "cell_type": "code",
   "execution_count": 2,
   "id": "26302e4f",
   "metadata": {},
   "outputs": [],
   "source": [
    "import MachineLearning.ModelEvaluation as me\n",
    "import MachineLearning.ModelBuilding as mb"
   ]
  },
  {
   "cell_type": "code",
   "execution_count": 4,
   "id": "75ff9204",
   "metadata": {},
   "outputs": [],
   "source": [
    "mb.weight_of_evidence_plot?"
   ]
  },
  {
   "cell_type": "code",
   "execution_count": 6,
   "id": "89726db5",
   "metadata": {},
   "outputs": [],
   "source": [
    "mb.weight_of_evidence_recalibration?"
   ]
  },
  {
   "cell_type": "code",
   "execution_count": null,
   "id": "7290a0cc",
   "metadata": {},
   "outputs": [],
   "source": []
  }
 ],
 "metadata": {
  "kernelspec": {
   "display_name": "Python 3 (ipykernel)",
   "language": "python",
   "name": "python3"
  },
  "language_info": {
   "codemirror_mode": {
    "name": "ipython",
    "version": 3
   },
   "file_extension": ".py",
   "mimetype": "text/x-python",
   "name": "python",
   "nbconvert_exporter": "python",
   "pygments_lexer": "ipython3",
   "version": "3.11.7"
  }
 },
 "nbformat": 4,
 "nbformat_minor": 5
}
